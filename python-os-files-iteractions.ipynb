{
 "cells": [
  {
   "cell_type": "markdown",
   "metadata": {},
   "source": [
    "## PYTHON Files interactions"
   ]
  },
  {
   "cell_type": "code",
   "execution_count": 5,
   "metadata": {},
   "outputs": [
    {
     "name": "stdout",
     "output_type": "stream",
     "text": [
      "0\n"
     ]
    }
   ],
   "source": [
    "import os\n",
    "def create_python_script(filename):\n",
    "    comments = \"# Start of a new Python program\"\n",
    "    with open(filename, 'a') as file_object:\n",
    "        file_object.write(comments)\n",
    "    filesize = os.path.getsize(os.getcwd())\n",
    "    return(filesize)\n",
    "\n",
    "print(create_python_script(\"program.py\"))"
   ]
  },
  {
   "cell_type": "code",
   "execution_count": 5,
   "metadata": {},
   "outputs": [],
   "source": [
    "import os\n",
    "\n",
    "def new_directory(directory, filename):\n",
    "    # Before creating a new directory, check to see if it already exists\n",
    "    if os.path.isdir(directory) == False:\n",
    "        parent_dir = os.getcwd()\n",
    "        path = os.path.join(parent_dir, directory)\n",
    "        os.mkdir(path)\n",
    "\n",
    "    # Create the new file inside of the new directory\n",
    "    os.chdir(directory)\n",
    "    with open (filename, 'w') as file:\n",
    "        file.write('Hello\\n')\n",
    "\n",
    "    # Return the list of files in the new directory\n",
    "    return os.listdir()\n",
    "\n",
    "    print(new_directory(\"PythonPrograms\", \"script.py\"))"
   ]
  },
  {
   "cell_type": "code",
   "execution_count": 3,
   "metadata": {},
   "outputs": [],
   "source": [
    "#!/usr/bin/env python3                                                          \n",
    "import shutil\n",
    "import psutil\n",
    "def check_disk_usage(disk):\n",
    "    du = shutil.disk_usage(disk)\n",
    "    free = du.free / du.total * 100\n",
    "    return free > 20\n",
    "\n",
    "def check_cpu_usage():\n",
    "    usage = psutil.cpu_percent(1)\n",
    "    return usage < 75\n",
    "    if not check_disk_usage(\"/\") or not check_cpu_usage():\n",
    "        print(\"ERROR!\")\n",
    "    else:\n",
    "        print(\"Everything is OK!\")"
   ]
  },
  {
   "cell_type": "markdown",
   "metadata": {},
   "source": [
    "### Python Modules"
   ]
  },
  {
   "cell_type": "code",
   "execution_count": 7,
   "metadata": {},
   "outputs": [],
   "source": [
    "#!/usr/bin/env python3\n",
    "import requests\n",
    "import socket\n",
    "\n",
    "\n",
    "def check_localhost():\n",
    "        localhost = socket.gethostbyname('localhost')\n",
    "        if localhost == \"127.0.0.1\":\n",
    "                return True\n",
    "\n",
    "def check_connectivity():\n",
    "        request = requests.get(\"http://www.google.com\")\n",
    "        response = request.status_code\n",
    "        if response == 200:\n",
    "                return True"
   ]
  },
  {
   "cell_type": "markdown",
   "metadata": {},
   "source": [
    "### Writing to a file and finding its size"
   ]
  },
  {
   "cell_type": "code",
   "execution_count": 8,
   "metadata": {},
   "outputs": [],
   "source": [
    "def create_python_script(filename):\n",
    "    comments = \"# Start of a new Python program\"\n",
    "    with open(filename, \"w\") as f:\n",
    "        f.write(comments)\n",
    "  \n",
    "    file = open(filename, \"r\")\n",
    "    data = file.read()\n",
    "    f.close()\n",
    "    filesize = len(data)\n",
    "    return(filesize)\n",
    "\n",
    "print(create_python_script(\"program.py\"))"
   ]
  },
  {
   "cell_type": "markdown",
   "metadata": {},
   "source": [
    "### Print the path of the parent_directory"
   ]
  },
  {
   "cell_type": "code",
   "execution_count": 10,
   "metadata": {},
   "outputs": [],
   "source": [
    "import os\n",
    "def parent_directory():\n",
    "    # Create a relative path to the parent \n",
    "    # of the current working directory \n",
    "    relative_parent = os.path.join(os.getcwd(), '..')\n",
    "\n",
    "    # Return the absolute path of the parent directory\n",
    "    return os.path.abspath(relative_parent)\n",
    "\n",
    "print(parent_directory())"
   ]
  },
  {
   "cell_type": "markdown",
   "metadata": {},
   "source": [
    "### Creating a file inside of  a directory"
   ]
  },
  {
   "cell_type": "code",
   "execution_count": 11,
   "metadata": {},
   "outputs": [
    {
     "name": "stdout",
     "output_type": "stream",
     "text": [
      "['program.py', 'script.py']\n"
     ]
    }
   ],
   "source": [
    "import os\n",
    "def new_directory(directory, filename):\n",
    "    # Before creating a new directory, check to see if it already exists\n",
    "    if os.path.isdir(directory) == False:\n",
    "        parent_dir = os.getcwd()\n",
    "        path = os.path.join(parent_dir, directory)\n",
    "        os.mkdir(path)\n",
    "\n",
    "    # Create the new file inside of the new directory\n",
    "    os.chdir(directory)\n",
    "    with open (filename, 'w') as file:\n",
    "        file.write('Hello\\n')\n",
    "\n",
    "    # Return the list of files in the new directory\n",
    "    return os.listdir()\n",
    "\n",
    "print(new_directory(\"PythonPrograms\", \"script.py\"))"
   ]
  },
  {
   "cell_type": "markdown",
   "metadata": {},
   "source": [
    "### Dealing with timestamp"
   ]
  },
  {
   "cell_type": "code",
   "execution_count": 13,
   "metadata": {},
   "outputs": [
    {
     "name": "stdout",
     "output_type": "stream",
     "text": [
      "2021-03-24\n"
     ]
    }
   ],
   "source": [
    "import os\n",
    "import datetime\n",
    "\n",
    "def file_date(filename):\n",
    "    # Create the file in the current directory\n",
    "    with open(filename, \"w\") as file_new:\n",
    "        file_new.write(\"File created\\n\")\n",
    "    try:\n",
    "        mtime = os.path.getmtime(filename)\n",
    "    except OSError:\n",
    "        mtime = 0\n",
    "    last_modified_date = datetime.datetime.fromtimestamp(mtime)\n",
    "  \n",
    "    # Convert the timestamp into a readable format, then into a string\n",
    "    # Return just the date portion \n",
    "    # Hint: how many characters are in “yyyy-mm-dd”? .strftime(\"%Y-%m-%dT%H:%M:%S.%f\")\n",
    "    return (last_modified_date.strftime(\"%Y-%m-%d\"))\n",
    "\n",
    "print(file_date(\"newfile.txt\")) \n",
    "# Should be today's date in the format of yyyy-mm-dd"
   ]
  },
  {
   "cell_type": "markdown",
   "metadata": {},
   "source": [
    "### What is a csv file"
   ]
  },
  {
   "cell_type": "code",
   "execution_count": null,
   "metadata": {},
   "outputs": [],
   "source": [
    "import csv\n",
    "\n",
    "f = open('csv_file.txt')\n",
    "csv_f = csv.reader(f)\n",
    "for row in csv_f:\n",
    "    name, phone, role = row\n",
    "    print('Name: {}, Phone: {}, Role: {}'.format(name, phone, role))\n",
    "f.close()"
   ]
  },
  {
   "cell_type": "markdown",
   "metadata": {},
   "source": [
    "### Writing to a csv file"
   ]
  },
  {
   "cell_type": "code",
   "execution_count": 24,
   "metadata": {},
   "outputs": [],
   "source": [
    "hosts = [['workstation.local', '192.168.25.46'], ['webserver.cloud', '10.2.5.6']]\n",
    "with open('hosts.csv', 'w') as hosts_csv:\n",
    "    writer = csv.writer(hosts_csv)\n",
    "    writer.writerows(hosts)\n",
    "\n",
    "# outside python env: cat hosts.csv"
   ]
  },
  {
   "cell_type": "markdown",
   "metadata": {},
   "source": [
    "### DictReader"
   ]
  },
  {
   "cell_type": "code",
   "execution_count": null,
   "metadata": {},
   "outputs": [],
   "source": [
    "with open('software.csv') as software:\n",
    "    reader = csv.DictReader(software)\n",
    "    for row in reader:\n",
    "        print(('{} has {} users').format(row['name'], row['users']))"
   ]
  },
  {
   "cell_type": "code",
   "execution_count": null,
   "metadata": {},
   "outputs": [],
   "source": [
    "import os\n",
    "import csv\n",
    "\n",
    "# Create a file with data in it\n",
    "def create_file(filename):\n",
    "    with open(filename, \"w\") as file:\n",
    "        file.write(\"name,color,type\\n\")\n",
    "        file.write(\"carnation,pink,annual\\n\")\n",
    "        file.write(\"daffodil,yellow,perennial\\n\")\n",
    "        file.write(\"iris,blue,perennial\\n\")\n",
    "        file.write(\"poinsettia,red,perennial\\n\")\n",
    "        file.write(\"sunflower,yellow,annual\\n\")\n",
    "\n",
    "# Read the file contents and format the information about each row\n",
    "def contents_of_file(filename):\n",
    "    return_string = \"\"\n",
    "\n",
    "    # Call the function to create the file \n",
    "    create_file(filename)\n",
    "\n",
    "    # Open the file\n",
    "    with open(filename) as file_dict:\n",
    "    # Read the rows of the file into a dictionary\n",
    "        reader = csv.DictReader(file_dict)\n",
    "    # Process each item of the dictionary\n",
    "    for row in reader:\n",
    "        return_string += \"a {} {} is {}\\n\".format(row[\"color\"], row[\"name\"], row[\"type\"])\n",
    "    return return_string\n",
    "\n",
    "#Call the function\n",
    "print(contents_of_file(\"flowers.csv\"))"
   ]
  },
  {
   "cell_type": "code",
   "execution_count": null,
   "metadata": {},
   "outputs": [],
   "source": [
    "import os\n",
    "import csv\n",
    "\n",
    "# Create a file with data in it\n",
    "def create_file(filename):\n",
    "    with open(filename, \"w\") as file:\n",
    "        file.write(\"name,color,type\\n\")\n",
    "        file.write(\"carnation,pink,annual\\n\")\n",
    "        file.write(\"daffodil,yellow,perennial\\n\")\n",
    "        file.write(\"iris,blue,perennial\\n\")\n",
    "        file.write(\"poinsettia,red,perennial\\n\")\n",
    "        file.write(\"sunflower,yellow,annual\\n\")\n",
    "\n",
    "# Read the file contents and format the information about each row\n",
    "def contents_of_file(filename):\n",
    "    return_string = \"\"\n",
    "\n",
    "    # Call the function to create the file \n",
    "    create_file(filename)\n",
    "\n",
    "    # Open the file\n",
    "    with open(filename) as file_dict:\n",
    "    # Read the rows of the file\n",
    "        rows = csv.reader(file_dict)\n",
    "        next(rows, None)  # skip the headers\n",
    "    # Process each row\n",
    "    for row in rows:\n",
    "        name, color, type = row\n",
    "        # Format the return string for data rows only\n",
    "\n",
    "    return_string += \"a {} {} is {}\\n\".format(name, color, type)\n",
    "    return return_string\n",
    "\n",
    "#Call the function\n",
    "print(contents_of_file(\"flowers.csv\"))"
   ]
  },
  {
   "cell_type": "code",
   "execution_count": null,
   "metadata": {},
   "outputs": [],
   "source": []
  }
 ],
 "metadata": {
  "kernelspec": {
   "display_name": "Python 3",
   "language": "python",
   "name": "python3"
  },
  "language_info": {
   "codemirror_mode": {
    "name": "ipython",
    "version": 3
   },
   "file_extension": ".py",
   "mimetype": "text/x-python",
   "name": "python",
   "nbconvert_exporter": "python",
   "pygments_lexer": "ipython3",
   "version": "3.8.3"
  }
 },
 "nbformat": 4,
 "nbformat_minor": 4
}
