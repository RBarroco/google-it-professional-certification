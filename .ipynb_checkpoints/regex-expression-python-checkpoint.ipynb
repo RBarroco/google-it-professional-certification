{
 "cells": [
  {
   "cell_type": "markdown",
   "metadata": {},
   "source": [
    "# Regex expression in python"
   ]
  },
  {
   "cell_type": "markdown",
   "metadata": {},
   "source": [
    "### Wildcard"
   ]
  },
  {
   "cell_type": "code",
   "execution_count": 5,
   "metadata": {},
   "outputs": [
    {
     "name": "stdout",
     "output_type": "stream",
     "text": [
      "True\n",
      "False\n",
      "True\n"
     ]
    }
   ],
   "source": [
    "# \".\" wildcard\n",
    "import re\n",
    "\n",
    "def check_aei (text):\n",
    "    result = re.search(r\"a.e.i\", text)\n",
    "    return result != None\n",
    "\n",
    "print(check_aei(\"academia\")) # True\n",
    "print(check_aei(\"aerial\")) # False\n",
    "print(check_aei(\"paramedic\")) # True"
   ]
  },
  {
   "cell_type": "markdown",
   "metadata": {},
   "source": [
    "### Character classes"
   ]
  },
  {
   "cell_type": "code",
   "execution_count": 6,
   "metadata": {},
   "outputs": [
    {
     "name": "stdout",
     "output_type": "stream",
     "text": [
      "<re.Match object; span=(0, 6), match='Python'>\n"
     ]
    }
   ],
   "source": [
    "print(re.search(r\"[Pp]ython\", \"Python\"))"
   ]
  },
  {
   "cell_type": "code",
   "execution_count": 7,
   "metadata": {},
   "outputs": [
    {
     "name": "stdout",
     "output_type": "stream",
     "text": [
      "<re.Match object; span=(18, 22), match='hway'>\n"
     ]
    }
   ],
   "source": [
    "print(re.search(r\"[a-z]way\", \"The end of the highway\"))"
   ]
  },
  {
   "cell_type": "code",
   "execution_count": 8,
   "metadata": {},
   "outputs": [
    {
     "name": "stdout",
     "output_type": "stream",
     "text": [
      "None\n"
     ]
    }
   ],
   "source": [
    "print(re.search(r\"[a-z]way\", \"What a way to go\"))"
   ]
  },
  {
   "cell_type": "code",
   "execution_count": 10,
   "metadata": {},
   "outputs": [
    {
     "name": "stdout",
     "output_type": "stream",
     "text": [
      "True\n",
      "False\n",
      "True\n",
      "True\n",
      "False\n"
     ]
    }
   ],
   "source": [
    "#[A-Z], [0-9],[.!?\\\\-]\n",
    "\n",
    "import re\n",
    "def check_punctuation (text):\n",
    "    result = re.search(r\"[.!?\\\\-]\", text)\n",
    "    return result != None\n",
    "\n",
    "print(check_punctuation(\"This is a sentence that ends with a period.\")) # True\n",
    "print(check_punctuation(\"This is a sentence fragment without a period\")) # False\n",
    "print(check_punctuation(\"Aren't regular expressions awesome?\")) # True\n",
    "print(check_punctuation(\"Wow! We're really picking up some steam now!\")) # True\n",
    "print(check_punctuation(\"End of the line\")) # False"
   ]
  },
  {
   "cell_type": "code",
   "execution_count": 11,
   "metadata": {},
   "outputs": [
    {
     "name": "stdout",
     "output_type": "stream",
     "text": [
      "<re.Match object; span=(4, 5), match=' '>\n"
     ]
    }
   ],
   "source": [
    "# matching not a letter (matches the first space)\n",
    "print(re.search(r\"[^a-zA-Z]\", \"This is a sentence with spaces.\"))"
   ]
  },
  {
   "cell_type": "code",
   "execution_count": 13,
   "metadata": {},
   "outputs": [
    {
     "name": "stdout",
     "output_type": "stream",
     "text": [
      "<re.Match object; span=(30, 31), match='.'>\n"
     ]
    }
   ],
   "source": [
    "# matching not a letter (matches the first point because we added space)\n",
    "print(re.search(r\"[^a-zA-Z ]\", \"This is a sentence with spaces.\"))"
   ]
  },
  {
   "cell_type": "code",
   "execution_count": 17,
   "metadata": {},
   "outputs": [
    {
     "name": "stdout",
     "output_type": "stream",
     "text": [
      "<re.Match object; span=(7, 10), match='cat'>\n",
      "<re.Match object; span=(7, 10), match='dog'>\n",
      "['cat', 'dog']\n"
     ]
    }
   ],
   "source": [
    "# matching cat\n",
    "print(re.search(r\"cat|dog\", \"I like cats.\"))\n",
    "\n",
    "# matching dog\n",
    "print(re.search(r\"cat|dog\", \"I like dogs.\"))\n",
    "\n",
    "# matching cat and dog\n",
    "print(re.findall(r\"cat|dog\", \"I like cats and dogs.\"))"
   ]
  },
  {
   "cell_type": "markdown",
   "metadata": {},
   "source": [
    "### Repetition Qualifiers"
   ]
  },
  {
   "cell_type": "code",
   "execution_count": 19,
   "metadata": {},
   "outputs": [
    {
     "name": "stdout",
     "output_type": "stream",
     "text": [
      "<re.Match object; span=(0, 9), match='Pygmalion'>\n",
      "<re.Match object; span=(0, 17), match='Python Programmin'>\n"
     ]
    }
   ],
   "source": [
    "#Repeated matches (.*)\n",
    "\n",
    "print(re.search(r\"Py.*n\", \"Pygmalion\"))\n",
    "print(re.search(r\"Py.*n\", \"Python Programmin\"))"
   ]
  },
  {
   "cell_type": "code",
   "execution_count": 20,
   "metadata": {},
   "outputs": [
    {
     "name": "stdout",
     "output_type": "stream",
     "text": [
      "<re.Match object; span=(0, 6), match='Python'>\n"
     ]
    }
   ],
   "source": [
    "print(re.search(r\"Py[a-z]*n\", \"Python Programmin\"))"
   ]
  },
  {
   "cell_type": "code",
   "execution_count": 21,
   "metadata": {},
   "outputs": [
    {
     "name": "stdout",
     "output_type": "stream",
     "text": [
      "<re.Match object; span=(0, 3), match='Pyn'>\n"
     ]
    }
   ],
   "source": [
    "print(re.search(r\"Py[a-z]*n\", \"Pyn\"))"
   ]
  },
  {
   "cell_type": "code",
   "execution_count": 23,
   "metadata": {},
   "outputs": [
    {
     "name": "stdout",
     "output_type": "stream",
     "text": [
      "<re.Match object; span=(1, 3), match='ol'>\n"
     ]
    }
   ],
   "source": [
    "# (+)\n",
    "print(re.search(r\"o+l+\", \"goldfish\"))"
   ]
  },
  {
   "cell_type": "code",
   "execution_count": 24,
   "metadata": {},
   "outputs": [
    {
     "name": "stdout",
     "output_type": "stream",
     "text": [
      "<re.Match object; span=(1, 5), match='ooll'>\n"
     ]
    }
   ],
   "source": [
    "print(re.search(r\"o+l+\", \"woolly\"))"
   ]
  },
  {
   "cell_type": "code",
   "execution_count": 27,
   "metadata": {},
   "outputs": [
    {
     "name": "stdout",
     "output_type": "stream",
     "text": [
      "None\n",
      "<re.Match object; span=(1, 4), match='oil'>\n"
     ]
    }
   ],
   "source": [
    "print(re.search(r\"o+l+\", \"boil\"))\n",
    "print(re.search(r\"o+.l+\", \"boil\"))"
   ]
  },
  {
   "cell_type": "code",
   "execution_count": 28,
   "metadata": {},
   "outputs": [
    {
     "name": "stdout",
     "output_type": "stream",
     "text": [
      "True\n",
      "False\n",
      "True\n",
      "True\n"
     ]
    }
   ],
   "source": [
    "# Finding 2a's\n",
    "\n",
    "import re\n",
    "def repeating_letter_a(text):\n",
    "    result = re.search(r\"(a.*){2}\", text, re.IGNORECASE)\n",
    "    return result != None\n",
    "\n",
    "print(repeating_letter_a(\"banana\")) # True\n",
    "print(repeating_letter_a(\"pineapple\")) # False\n",
    "print(repeating_letter_a(\"Animal Kingdom\")) # True\n",
    "print(repeating_letter_a(\"A is for apple\")) # True"
   ]
  },
  {
   "cell_type": "code",
   "execution_count": 31,
   "metadata": {},
   "outputs": [
    {
     "name": "stdout",
     "output_type": "stream",
     "text": [
      "<re.Match object; span=(3, 7), match='each'>\n",
      "<re.Match object; span=(3, 8), match='peach'>\n"
     ]
    }
   ],
   "source": [
    "# (?)\n",
    "print(re.search(r\"p?each\", \"To each\"))\n",
    "print(re.search(r\"p?each\", \"To peach\"))"
   ]
  },
  {
   "cell_type": "markdown",
   "metadata": {},
   "source": [
    "### Escaping characters"
   ]
  },
  {
   "cell_type": "code",
   "execution_count": 35,
   "metadata": {},
   "outputs": [
    {
     "name": "stdout",
     "output_type": "stream",
     "text": [
      "<re.Match object; span=(2, 6), match='lcom'>\n",
      "None\n",
      "<re.Match object; span=(7, 11), match='.com'>\n"
     ]
    }
   ],
   "source": [
    "# (\\)\n",
    "\n",
    "print(re.search(r\".com\", \"welcome\"))\n",
    "print(re.search(r\"\\.com\", \"welcome\"))\n",
    "print(re.search(r\"\\.com\", \"welcome.com\"))"
   ]
  },
  {
   "cell_type": "code",
   "execution_count": 36,
   "metadata": {},
   "outputs": [
    {
     "name": "stdout",
     "output_type": "stream",
     "text": [
      "<re.Match object; span=(0, 4), match='This'>\n"
     ]
    }
   ],
   "source": [
    "# \\w alphanumeric AND \\d \\s \\b\n",
    "\n",
    "print(re.search(r\"\\w*\", \"This is an example\"))\n",
    "print(re.search(r\"\\w*\", \"This_is_an_example\"))"
   ]
  },
  {
   "cell_type": "code",
   "execution_count": 37,
   "metadata": {},
   "outputs": [
    {
     "name": "stdout",
     "output_type": "stream",
     "text": [
      "False\n",
      "True\n",
      "True\n",
      "False\n"
     ]
    }
   ],
   "source": [
    "# At least two alphanumeric separated by one or more whitespace characters\n",
    "\n",
    "import re\n",
    "def check_character_groups(text):\n",
    "    result = re.search(r\"\\w{2}\\s\", text)\n",
    "    return result != None\n",
    "\n",
    "print(check_character_groups(\"One\")) # False\n",
    "print(check_character_groups(\"123  Ready Set GO\")) # True\n",
    "print(check_character_groups(\"username user_01\")) # True\n",
    "print(check_character_groups(\"shopping_list: milk, bread, eggs.\")) # False"
   ]
  },
  {
   "cell_type": "markdown",
   "metadata": {},
   "source": [
    "### Advanced regular expressions"
   ]
  },
  {
   "cell_type": "code",
   "execution_count": 42,
   "metadata": {},
   "outputs": [
    {
     "name": "stdout",
     "output_type": "stream",
     "text": [
      "<re.Match object; span=(0, 9), match='Argentina'>\n",
      "<re.Match object; span=(0, 9), match='Azerbaija'>\n",
      "None\n",
      "<re.Match object; span=(0, 9), match='Australia'>\n"
     ]
    }
   ],
   "source": [
    "# A.*a\n",
    "\n",
    "print(re.search(r\"A.*a\", \"Argentina\"))\n",
    "print(re.search(r\"A.*a\", \"Azerbaijan\"))\n",
    "\n",
    "# restricting the word\n",
    "print(re.search(r\"^A.*a$\", \"Azerbaijan\"))\n",
    "print(re.search(r\"^A.*a$\", \"Australia\"))"
   ]
  },
  {
   "cell_type": "code",
   "execution_count": 47,
   "metadata": {},
   "outputs": [
    {
     "name": "stdout",
     "output_type": "stream",
     "text": [
      "<re.Match object; span=(0, 30), match='_this_is_a_valid_variable_name'>\n",
      "None\n",
      "<re.Match object; span=(0, 17), match='my_variable_name1'>\n",
      "None\n"
     ]
    }
   ],
   "source": [
    "pattern = r\"^[a-zA-Z_][a-zA-Z0-9_]*$\"\n",
    "print(re.search(pattern, \"_this_is_a_valid_variable_name\"))\n",
    "print(re.search(pattern, \"this isn't a valid varaible\"))\n",
    "print(re.search(pattern, \"my_variable_name1\"))\n",
    "\n",
    "# number at beginning is not allowed by \"^[a-zA-z]\"\n",
    "print(re.search(pattern, \"1my_variable_name\"))"
   ]
  },
  {
   "cell_type": "code",
   "execution_count": 50,
   "metadata": {},
   "outputs": [
    {
     "name": "stdout",
     "output_type": "stream",
     "text": [
      "True\n",
      "False\n",
      "False\n",
      "False\n",
      "True\n"
     ]
    }
   ],
   "source": [
    "# Start with Upper case followed by some lowercase or space and finish with period,\n",
    "# question mark, or exclamation\n",
    "import re\n",
    "def check_sentence(text):\n",
    "    result = re.search(r\"^[A-Z][a-z ]*[.?!]$\", text)\n",
    "    return result != None\n",
    "\n",
    "print(check_sentence(\"Is this is a sentence?\")) # True\n",
    "print(check_sentence(\"is this is a sentence?\")) # False\n",
    "print(check_sentence(\"Hello\")) # False\n",
    "print(check_sentence(\"1-2-3-GO!\")) # False\n",
    "print(check_sentence(\"A star is born.\")) # True"
   ]
  },
  {
   "cell_type": "markdown",
   "metadata": {},
   "source": [
    "### Questions"
   ]
  },
  {
   "cell_type": "code",
   "execution_count": 52,
   "metadata": {},
   "outputs": [
    {
     "name": "stdout",
     "output_type": "stream",
     "text": [
      "True\n",
      "True\n",
      "False\n",
      "False\n"
     ]
    }
   ],
   "source": [
    "import re\n",
    "def check_time(text):\n",
    "    pattern = r\"[1-9]*[:][0-5]{1}[0-9]{1}[PpMm|AaMm| PpMm| AaMm]\"\n",
    "    result = re.search(pattern, text)\n",
    "    return result != None\n",
    "\n",
    "print(check_time(\"12:45pm\")) # True\n",
    "print(check_time(\"9:59 AM\")) # True\n",
    "print(check_time(\"6:60am\")) # False\n",
    "print(check_time(\"five o'clock\")) # False"
   ]
  },
  {
   "cell_type": "code",
   "execution_count": 53,
   "metadata": {},
   "outputs": [
    {
     "name": "stdout",
     "output_type": "stream",
     "text": [
      "True\n",
      "True\n",
      "False\n",
      "True\n",
      "True\n"
     ]
    }
   ],
   "source": [
    "import re\n",
    "def contains_acronym(text):\n",
    "    pattern = r\"\\([0-9A-Za-z]*\\)\" \n",
    "    result = re.search(pattern, text)\n",
    "    return result != None\n",
    "\n",
    "print(contains_acronym(\"Instant messaging (IM) is a set of communication technologies used for text-based communication\")) # True\n",
    "print(contains_acronym(\"American Standard Code for Information Interchange (ASCII) is a character encoding standard for electronic communication\")) # True\n",
    "print(contains_acronym(\"Please do NOT enter without permission!\")) # False\n",
    "print(contains_acronym(\"PostScript is a fourth-generation programming language (4GL)\")) # True\n",
    "print(contains_acronym(\"Have fun using a self-contained underwater breathing apparatus (Scuba)!\")) # True"
   ]
  },
  {
   "cell_type": "code",
   "execution_count": 54,
   "metadata": {},
   "outputs": [
    {
     "name": "stdout",
     "output_type": "stream",
     "text": [
      "True\n",
      "False\n",
      "True\n",
      "False\n"
     ]
    }
   ],
   "source": [
    "import re\n",
    "def check_zip_code (text):\n",
    "    result = re.search(r\"[0-8]{5}|[0-9]{5}[-][0-9]{4}\", text)\n",
    "    return result != None\n",
    "\n",
    "print(check_zip_code(\"The zip codes for New York are 10001 thru 11104.\")) # True\n",
    "print(check_zip_code(\"90210 is a TV show\")) # False\n",
    "print(check_zip_code(\"Their address is: 123 Main Street, Anytown, AZ 85258-0001.\")) # True\n",
    "print(check_zip_code(\"The Parliament of Canada is at 111 Wellington St, Ottawa, ON K1A0A9.\")) # False"
   ]
  },
  {
   "cell_type": "markdown",
   "metadata": {},
   "source": [
    "### Group match"
   ]
  },
  {
   "cell_type": "code",
   "execution_count": 56,
   "metadata": {},
   "outputs": [
    {
     "name": "stdout",
     "output_type": "stream",
     "text": [
      "<re.Match object; span=(0, 13), match='Lovelace, Ada'>\n"
     ]
    }
   ],
   "source": [
    "# \\w letters, numbers and underscores\n",
    "result = re.search(r\"^(\\w*), (\\w*)$\", \"Lovelace, Ada\")\n",
    "print(result)"
   ]
  },
  {
   "cell_type": "code",
   "execution_count": 57,
   "metadata": {},
   "outputs": [
    {
     "name": "stdout",
     "output_type": "stream",
     "text": [
      "('Lovelace', 'Ada')\n"
     ]
    }
   ],
   "source": [
    "print(result.groups())"
   ]
  },
  {
   "cell_type": "code",
   "execution_count": 59,
   "metadata": {},
   "outputs": [
    {
     "data": {
      "text/plain": [
       "'Lovelace'"
      ]
     },
     "execution_count": 59,
     "metadata": {},
     "output_type": "execute_result"
    }
   ],
   "source": [
    "result[1]"
   ]
  },
  {
   "cell_type": "code",
   "execution_count": 60,
   "metadata": {},
   "outputs": [
    {
     "data": {
      "text/plain": [
       "'Ada'"
      ]
     },
     "execution_count": 60,
     "metadata": {},
     "output_type": "execute_result"
    }
   ],
   "source": [
    "result[2]"
   ]
  },
  {
   "cell_type": "code",
   "execution_count": 61,
   "metadata": {},
   "outputs": [
    {
     "data": {
      "text/plain": [
       "'Ada Lovelace'"
      ]
     },
     "execution_count": 61,
     "metadata": {},
     "output_type": "execute_result"
    }
   ],
   "source": [
    "\"{} {}\".format(result[2], result[1])"
   ]
  },
  {
   "cell_type": "code",
   "execution_count": 78,
   "metadata": {},
   "outputs": [],
   "source": [
    "def rearrage_name(name):\n",
    "        result = re.search(r\"^([\\w \\.-]*), ([\\w \\.-]*)$\", name)\n",
    "        if result is None:\n",
    "            return name                            \n",
    "        return \"{} {}\".format(result[2], result[1])"
   ]
  },
  {
   "cell_type": "code",
   "execution_count": 79,
   "metadata": {},
   "outputs": [
    {
     "data": {
      "text/plain": [
       "'Rogerio B. Renato B.'"
      ]
     },
     "execution_count": 79,
     "metadata": {},
     "output_type": "execute_result"
    }
   ],
   "source": [
    "rearrage_name(\"Renato B., Rogerio B.\")"
   ]
  },
  {
   "cell_type": "markdown",
   "metadata": {},
   "source": [
    "### Repetition Qualifiers"
   ]
  },
  {
   "cell_type": "code",
   "execution_count": 83,
   "metadata": {},
   "outputs": [
    {
     "name": "stdout",
     "output_type": "stream",
     "text": [
      "<re.Match object; span=(2, 7), match='ghost'>\n",
      "['scary', 'ghost', 'appea']\n"
     ]
    }
   ],
   "source": [
    "# numerical repetition qualifiers\n",
    "result = re.search(r\"[a-zA-Z]{5}\",\"a ghost\")\n",
    "print(result)\n",
    "\n",
    "# numerical repetition qualifiers\n",
    "result = re.findall(r\"[a-zA-Z]{5}\",\"a scary ghost appeared\")\n",
    "print(result)"
   ]
  },
  {
   "cell_type": "code",
   "execution_count": 85,
   "metadata": {},
   "outputs": [
    {
     "name": "stdout",
     "output_type": "stream",
     "text": [
      "['scary', 'ghost']\n"
     ]
    }
   ],
   "source": [
    "# numerical repetition qualifiers riight size\n",
    "result = re.findall(r\"\\b[a-zA-Z]{5}\\b\",\"a scary ghost appeared\")\n",
    "print(result)"
   ]
  },
  {
   "cell_type": "code",
   "execution_count": 87,
   "metadata": {},
   "outputs": [
    {
     "name": "stdout",
     "output_type": "stream",
     "text": [
      "['really', 'strawberri']\n"
     ]
    }
   ],
   "source": [
    "# numerical repetition qualifiers riight size\n",
    "result = re.findall(r\"\\w{5,10}\",\"I really like strawberries\")\n",
    "print(result)"
   ]
  },
  {
   "cell_type": "code",
   "execution_count": 88,
   "metadata": {},
   "outputs": [
    {
     "name": "stdout",
     "output_type": "stream",
     "text": [
      "['scary', 'ghost', 'appeared']\n"
     ]
    }
   ],
   "source": [
    "# numerical repetition qualifiers riight size\n",
    "result = re.findall(r\"\\b[a-zA-Z]{5,}\\b\",\"a scary ghost appeared\")\n",
    "print(result)"
   ]
  },
  {
   "cell_type": "code",
   "execution_count": 90,
   "metadata": {},
   "outputs": [
    {
     "name": "stdout",
     "output_type": "stream",
     "text": [
      "<re.Match object; span=(14, 26), match='strawberries'>\n"
     ]
    }
   ],
   "source": [
    "# numerical repetition qualifiers riight size\n",
    "result = re.search(r\"s\\w{,20}\",\"I really like strawberries\")\n",
    "print(result)"
   ]
  },
  {
   "cell_type": "code",
   "execution_count": 91,
   "metadata": {},
   "outputs": [
    {
     "name": "stdout",
     "output_type": "stream",
     "text": [
      "['morning']\n",
      "['chocolate', 'afternoon']\n",
      "[]\n"
     ]
    }
   ],
   "source": [
    "# Long_words at least 7 characters\n",
    "import re\n",
    "def long_words(text):\n",
    "    pattern = r\"\\w{7,}\"\n",
    "    result = re.findall(pattern, text)\n",
    "    return result\n",
    "\n",
    "print(long_words(\"I like to drink coffee in the morning.\")) # ['morning']\n",
    "print(long_words(\"I also have a taste for hot chocolate in the afternoon.\")) # ['chocolate', 'afternoon']\n",
    "print(long_words(\"I never drink tea late at night.\")) # []"
   ]
  },
  {
   "cell_type": "markdown",
   "metadata": {},
   "source": [
    "### Extracting PID"
   ]
  },
  {
   "cell_type": "code",
   "execution_count": 96,
   "metadata": {},
   "outputs": [
    {
     "name": "stdout",
     "output_type": "stream",
     "text": [
      "34567\n"
     ]
    }
   ],
   "source": [
    "regex = r\"\\[(\\d+)\\]\"\n",
    "result = re.search(regex, \"A completely different string that also has numbers [34567]\")\n",
    "print(result[1])"
   ]
  },
  {
   "cell_type": "code",
   "execution_count": 104,
   "metadata": {},
   "outputs": [],
   "source": [
    "def extratec_pid(log_line):\n",
    "        regex = r\"\\[(\\d+)\\]\"\n",
    "        result = re.search(regex, log_line)\n",
    "        if result is None:\n",
    "            return \"Not a number\"\n",
    "        return result[1]"
   ]
  },
  {
   "cell_type": "code",
   "execution_count": 105,
   "metadata": {},
   "outputs": [
    {
     "name": "stdout",
     "output_type": "stream",
     "text": [
      "Not a number\n"
     ]
    }
   ],
   "source": [
    "print(extratec_pid(\"A completely different string that also has numbers [not_number]\"))"
   ]
  },
  {
   "cell_type": "markdown",
   "metadata": {},
   "source": [
    "### Groups REGEX"
   ]
  },
  {
   "cell_type": "code",
   "execution_count": 154,
   "metadata": {},
   "outputs": [
    {
     "name": "stdout",
     "output_type": "stream",
     "text": [
      "12345 (ERROR)\n",
      "None\n",
      "None\n",
      "67890 (RUNNING)\n"
     ]
    }
   ],
   "source": [
    "import re\n",
    "def extract_pid(log_line):\n",
    "    regex = r\"\\[(\\d+)\\]\\:\\ ([A-Z]*)\"\n",
    "    result = re.search(regex, log_line)\n",
    "    if result is None:\n",
    "        return None\n",
    "    return \"{} ({})\".format(result[1], result[2])\n",
    "\n",
    "print(extract_pid(\"July 31 07:51:48 mycomputer bad_process[12345]: ERROR Performing package upgrade\")) # 12345 (ERROR)\n",
    "print(extract_pid(\"99 elephants in a [cage]\")) # None\n",
    "print(extract_pid(\"A string that also has numbers [34567] but no uppercase message\")) # None\n",
    "print(extract_pid(\"July 31 08:08:08 mycomputer new_process[67890]: RUNNING Performing backup\")) # 67890 (RUNNING)"
   ]
  },
  {
   "cell_type": "markdown",
   "metadata": {},
   "source": [
    "### Splitting and replacing"
   ]
  },
  {
   "cell_type": "code",
   "execution_count": 156,
   "metadata": {},
   "outputs": [
    {
     "data": {
      "text/plain": [
       "['One sentence', ' Another one> And the last one', '']"
      ]
     },
     "execution_count": 156,
     "metadata": {},
     "output_type": "execute_result"
    }
   ],
   "source": [
    "# splitting and replacing\n",
    "re.split(r\"[.?!]\", \"One sentence. Another one> And the last one!\")"
   ]
  },
  {
   "cell_type": "code",
   "execution_count": 157,
   "metadata": {},
   "outputs": [
    {
     "data": {
      "text/plain": [
       "['One sentence', '.', ' Another one> And the last one', '!', '']"
      ]
     },
     "execution_count": 157,
     "metadata": {},
     "output_type": "execute_result"
    }
   ],
   "source": [
    "# splitting and replacing\n",
    "re.split(r\"([.?!])\", \"One sentence. Another one> And the last one!\")"
   ]
  },
  {
   "cell_type": "markdown",
   "metadata": {},
   "source": [
    "### sub"
   ]
  },
  {
   "cell_type": "code",
   "execution_count": 158,
   "metadata": {},
   "outputs": [
    {
     "data": {
      "text/plain": [
       "'Received an email for [REDACTED]'"
      ]
     },
     "execution_count": 158,
     "metadata": {},
     "output_type": "execute_result"
    }
   ],
   "source": [
    "re.sub(\"[\\w.%+-]+@[\\w.-]+\", \"[REDACTED]\", \"Received an email for go_nuts95@my.example.com\")"
   ]
  },
  {
   "cell_type": "code",
   "execution_count": 160,
   "metadata": {},
   "outputs": [
    {
     "data": {
      "text/plain": [
       "'Ada Lovelace'"
      ]
     },
     "execution_count": 160,
     "metadata": {},
     "output_type": "execute_result"
    }
   ],
   "source": [
    "# backreferences\n",
    "re.sub(r\"^([\\w .-]*), ([\\w .-]*)$\", r\"\\2 \\1\", \"Lovelace, Ada\")"
   ]
  },
  {
   "cell_type": "markdown",
   "metadata": {},
   "source": [
    "### split"
   ]
  },
  {
   "cell_type": "code",
   "execution_count": 161,
   "metadata": {},
   "outputs": [
    {
     "data": {
      "text/plain": [
       "['One sentence. Ano', 'r one? And ', ' l', 'st one!']"
      ]
     },
     "execution_count": 161,
     "metadata": {},
     "output_type": "execute_result"
    }
   ],
   "source": [
    "re.split(r\"the|a\", \"One sentence. Another one? And the last one!\")"
   ]
  },
  {
   "cell_type": "markdown",
   "metadata": {},
   "source": [
    "### Practice"
   ]
  },
  {
   "cell_type": "code",
   "execution_count": 162,
   "metadata": {},
   "outputs": [
    {
     "name": "stdout",
     "output_type": "stream",
     "text": [
      "['beautiful']\n",
      "['Obviously', 'queen', 'courageous', 'gracious']\n",
      "['rambunctious', 'quietly', 'delicious']\n",
      "['queue']\n",
      "[]\n"
     ]
    }
   ],
   "source": [
    "import re\n",
    "def multi_vowel_words(text):\n",
    "    pattern = r\"\\w*[aeiou]{3}\\w*\"\n",
    "    result = re.findall(pattern, text)\n",
    "    return result\n",
    "\n",
    "print(multi_vowel_words(\"Life is beautiful\")) \n",
    "# ['beautiful']\n",
    "\n",
    "print(multi_vowel_words(\"Obviously, the queen is courageous and gracious.\")) \n",
    "# ['Obviously', 'queen', 'courageous', 'gracious']\n",
    "\n",
    "print(multi_vowel_words(\"The rambunctious children had to sit quietly and await their delicious dinner.\")) \n",
    "# ['rambunctious', 'quietly', 'delicious']\n",
    "\n",
    "print(multi_vowel_words(\"The order of a data queue is First In First Out (FIFO)\")) \n",
    "# ['queue']\n",
    "\n",
    "print(multi_vowel_words(\"Hello world!\")) \n",
    "# []"
   ]
  },
  {
   "cell_type": "code",
   "execution_count": 163,
   "metadata": {},
   "outputs": [
    {
     "name": "stdout",
     "output_type": "stream",
     "text": [
      "// Start of program\n",
      "  number = 0   // Initialize the variable\n",
      "  number += 1   // Increment the variable\n",
      "  return(number)\n"
     ]
    }
   ],
   "source": [
    "import re\n",
    "def transform_comments(line_of_code):\n",
    "    result = re.sub(r\"#+\", r\"//\", line_of_code)\n",
    "    return result\n",
    "\n",
    "print(transform_comments(\"### Start of program\")) \n",
    "# Should be \"// Start of program\"\n",
    "print(transform_comments(\"  number = 0   ## Initialize the variable\")) \n",
    "# Should be \"  number = 0   // Initialize the variable\"\n",
    "print(transform_comments(\"  number += 1   # Increment the variable\")) \n",
    "# Should be \"  number += 1   // Increment the variable\"\n",
    "print(transform_comments(\"  return(number)\")) \n",
    "# Should be \"  return(number)\""
   ]
  },
  {
   "cell_type": "code",
   "execution_count": 165,
   "metadata": {},
   "outputs": [
    {
     "name": "stdout",
     "output_type": "stream",
     "text": [
      "My number is (212) 345-9999.\n",
      "Please call (888) 555-1234\n",
      "(123) 123-12345\n",
      "Phone number of Buckingham Palace is +44 303 123 7300\n"
     ]
    }
   ],
   "source": [
    "import re\n",
    "def convert_phone_number(phone):\n",
    "    result = re.sub(r\"(\\d{3})-(\\d{3})-(\\d{4}|\\d{5})\", r\"(\\1) \\2-\\3\", phone)\n",
    "    return result\n",
    "\n",
    "print(convert_phone_number(\"My number is 212-345-9999.\")) # My number is (212) 345-9999.\n",
    "print(convert_phone_number(\"Please call 888-555-1234\")) # Please call (888) 555-1234\n",
    "print(convert_phone_number(\"123-123-12345\")) # 123-123-12345\n",
    "print(convert_phone_number(\"Phone number of Buckingham Palace is +44 303 123 7300\")) # Phone number of Buckingham Palace is +44 303 123 7300"
   ]
  },
  {
   "cell_type": "code",
   "execution_count": 166,
   "metadata": {},
   "outputs": [
    {
     "name": "stdout",
     "output_type": "stream",
     "text": [
      "My number is (212) 345-9999.\n",
      "Please call (888) 555-1234\n",
      "123-123-12345\n",
      "Phone number of Buckingham Palace is +44 303 123 7300\n"
     ]
    }
   ],
   "source": [
    "import re\n",
    "def convert_phone_number(phone):\n",
    "    result = re.sub(r\"(\\d{3})-(\\d{3})-((\\d{4})$|(\\d{4})\\.$)\", r\"(\\1) \\2-\\3\", phone)\n",
    "    return result\n",
    "\n",
    "print(convert_phone_number(\"My number is 212-345-9999.\")) # My number is (212) 345-9999.\n",
    "print(convert_phone_number(\"Please call 888-555-1234\")) # Please call (888) 555-1234\n",
    "print(convert_phone_number(\"123-123-12345\")) # 123-123-12345\n",
    "print(convert_phone_number(\"Phone number of Buckingham Palace is +44 303 123 7300\")) # Phone number of Buckingham Palace is +44 303 123 7300"
   ]
  },
  {
   "cell_type": "markdown",
   "metadata": {},
   "source": [
    "### Substituting e-mail domain from/to a .csv file"
   ]
  },
  {
   "cell_type": "code",
   "execution_count": null,
   "metadata": {},
   "outputs": [],
   "source": [
    "#!/usr/bin/env python3\n",
    "\n",
    "import re\n",
    "import csv\n",
    "\n",
    "\n",
    "def contains_domain(address, domain):\n",
    "    \"\"\"Returns True if the email address contains the given,domain,in the domain position, false if not.\"\"\"\n",
    "    domain = r'[\\w\\.-]+@'+domain+'$'\n",
    "    if re.match(domain,address):\n",
    "        return True\n",
    "    return False\n",
    "\n",
    "\n",
    "def replace_domain(address, old_domain, new_domain):\n",
    "    \"\"\"Replaces the old domain with the new domain in the received address.\"\"\"\n",
    "    old_domain_pattern = r'' + old_domain + '$'\n",
    "    address = re.sub(old_domain_pattern, new_domain, address)\n",
    "    return address\n",
    "\n",
    "def main():\n",
    "    \"\"\"Processes the list of emails, replacing any instances of the old domain with the new domain.\"\"\"\n",
    "    old_domain, new_domain = 'abc.edu', 'xyz.edu'\n",
    "    csv_file_location = '<csv_file_location>'\n",
    "    report_file = '<path_to_home_directory>' + '/updated_user_emails.csv'\n",
    "    user_email_list = []\n",
    "    old_domain_email_list = []\n",
    "    new_domain_email_list = []\n",
    "\n",
    "    with open(csv_file_location, 'r') as f:\n",
    "        user_data_list = list(csv.reader(f))\n",
    "        user_email_list = [data[1].strip() for data in user_data_list[1:]]\n",
    "\n",
    "        for email_address in user_email_list:\n",
    "            if contains_domain(email_address, old_domain):\n",
    "                old_domain_email_list.append(email_address)\n",
    "                replaced_email = replace_domain(email_address,old_domain,new_domain)\n",
    "                new_domain_email_list.append(replaced_email)\n",
    "\n",
    "        email_key = ' ' + 'Email Address'\n",
    "        email_index = user_data_list[0].index(email_key)\n",
    "\n",
    "        for user in user_data_list[1:]:\n",
    "            for old_domain, new_domain in zip(old_domain_email_list, new_domain_email_list):\n",
    "                if user[email_index] == ' ' + old_domain:\n",
    "                    user[email_index] = ' ' + new_domain\n",
    "    f.close()\n",
    "\n",
    "    with open(report_file, 'w+') as output_file:\n",
    "        writer = csv.writer(output_file)\n",
    "        writer.writerows(user_data_list)\n",
    "        output_file.close()\n",
    "\n",
    "main()"
   ]
  },
  {
   "cell_type": "markdown",
   "metadata": {},
   "source": [
    "### Great !"
   ]
  }
 ],
 "metadata": {
  "kernelspec": {
   "display_name": "Python 3",
   "language": "python",
   "name": "python3"
  },
  "language_info": {
   "codemirror_mode": {
    "name": "ipython",
    "version": 3
   },
   "file_extension": ".py",
   "mimetype": "text/x-python",
   "name": "python",
   "nbconvert_exporter": "python",
   "pygments_lexer": "ipython3",
   "version": "3.8.3"
  }
 },
 "nbformat": 4,
 "nbformat_minor": 4
}
